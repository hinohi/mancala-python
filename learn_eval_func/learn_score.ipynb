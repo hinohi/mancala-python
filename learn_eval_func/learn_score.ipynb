{
 "cells": [
  {
   "cell_type": "code",
   "execution_count": 45,
   "metadata": {},
   "outputs": [],
   "source": [
    "import json\n",
    "import numpy\n",
    "from sklearn.model_selection import train_test_split\n",
    "\n",
    "with open('data/p6s4_37.json') as f:\n",
    "    data = json.load(f)\n",
    "    depth = data['score_depth']\n",
    "    x = numpy.array([d['v'][1:] for d in data['data']])\n",
    "    yy = [numpy.array([d['s'][i] for d in data['data']]) for i in range(depth + 1)]\n",
    "\n",
    "test_size = 0.1\n",
    "train_data = []\n",
    "test_data = []\n",
    "for y in yy:\n",
    "    x_train, x_test, y_train, y_test= train_test_split(x, y, test_size=test_size)\n",
    "    train_data.append([x_train, y_train])\n",
    "    test_data.append([x_test, y_test])"
   ]
  },
  {
   "cell_type": "code",
   "execution_count": 29,
   "metadata": {},
   "outputs": [],
   "source": [
    "import time\n",
    "def fit(factory):\n",
    "    for i in range(depth + 1):\n",
    "        reg = factory()\n",
    "        print(f'depth={i}')\n",
    "        t1 = time.time()\n",
    "        reg.fit(*train_data[i])\n",
    "        t2 = time.time()\n",
    "        print(f'  train {t2-t1:.3}sec')\n",
    "        train_score = reg.score(*train_data[i])\n",
    "        t3 = time.time()\n",
    "        print(f'  train_score={train_score:.3} [{t3-t2:.3}sec]')\n",
    "        test_score = reg.score(*test_data[i])\n",
    "        t4 = time.time()\n",
    "        print(f'  test_score={test_score:.3} [{t4-t3:.3}sec]')"
   ]
  },
  {
   "cell_type": "code",
   "execution_count": 37,
   "metadata": {},
   "outputs": [
    {
     "name": "stderr",
     "output_type": "stream",
     "text": [
      "/usr/local/var/pyenv/versions/3.7.0/envs/mancala/lib/python3.7/site-packages/sklearn/ensemble/weight_boosting.py:29: DeprecationWarning: numpy.core.umath_tests is an internal NumPy module and should not be imported. It will be removed in a future NumPy release.\n",
      "  from numpy.core.umath_tests import inner1d\n"
     ]
    }
   ],
   "source": [
    "from sklearn import linear_model\n",
    "from sklearn import svm\n",
    "from sklearn import neighbors\n",
    "from sklearn import tree\n",
    "from sklearn import naive_bayes\n",
    "from sklearn import neural_network\n",
    "from sklearn import ensemble"
   ]
  },
  {
   "cell_type": "code",
   "execution_count": 46,
   "metadata": {},
   "outputs": [
    {
     "name": "stdout",
     "output_type": "stream",
     "text": [
      "depth=0\n",
      "  train 0.0129sec\n",
      "  train_score=1.0 [0.00154sec]\n",
      "  test_score=1.0 [0.000815sec]\n",
      "depth=1\n",
      "  train 0.0131sec\n",
      "  train_score=0.461 [0.0019sec]\n",
      "  test_score=0.464 [0.00113sec]\n",
      "depth=2\n",
      "  train 0.00969sec\n",
      "  train_score=0.426 [0.00172sec]\n",
      "  test_score=0.445 [0.00134sec]\n",
      "depth=3\n",
      "  train 0.0139sec\n",
      "  train_score=0.385 [0.00304sec]\n",
      "  test_score=0.394 [0.000742sec]\n",
      "depth=4\n",
      "  train 0.00834sec\n",
      "  train_score=0.396 [0.00123sec]\n",
      "  test_score=0.39 [0.000767sec]\n"
     ]
    }
   ],
   "source": [
    "# http://scikit-learn.org/stable/modules/generated/sklearn.linear_model.LinearRegression.html#sklearn.linear_model.LinearRegression\n",
    "fit(lambda: linear_model.LinearRegression())"
   ]
  },
  {
   "cell_type": "code",
   "execution_count": 47,
   "metadata": {},
   "outputs": [
    {
     "name": "stdout",
     "output_type": "stream",
     "text": [
      "depth=0\n",
      "  train 9.91sec\n",
      "  train_score=0.779 [2.37sec]\n",
      "  test_score=0.747 [0.264sec]\n",
      "depth=1\n"
     ]
    },
    {
     "ename": "KeyboardInterrupt",
     "evalue": "",
     "output_type": "error",
     "traceback": [
      "\u001b[0;31m---------------------------------------------------------------------------\u001b[0m",
      "\u001b[0;31mKeyboardInterrupt\u001b[0m                         Traceback (most recent call last)",
      "\u001b[0;32m<ipython-input-47-bb8720671656>\u001b[0m in \u001b[0;36m<module>\u001b[0;34m()\u001b[0m\n\u001b[1;32m      1\u001b[0m \u001b[0;31m# http://scikit-learn.org/stable/modules/generated/sklearn.svm.SVR.html#sklearn.svm.SVR\u001b[0m\u001b[0;34m\u001b[0m\u001b[0;34m\u001b[0m\u001b[0m\n\u001b[0;32m----> 2\u001b[0;31m \u001b[0mfit\u001b[0m\u001b[0;34m(\u001b[0m\u001b[0;32mlambda\u001b[0m\u001b[0;34m:\u001b[0m \u001b[0msvm\u001b[0m\u001b[0;34m.\u001b[0m\u001b[0mSVR\u001b[0m\u001b[0;34m(\u001b[0m\u001b[0;34m)\u001b[0m\u001b[0;34m)\u001b[0m\u001b[0;34m\u001b[0m\u001b[0m\n\u001b[0m",
      "\u001b[0;32m<ipython-input-29-03de28af684c>\u001b[0m in \u001b[0;36mfit\u001b[0;34m(factory)\u001b[0m\n\u001b[1;32m      5\u001b[0m         \u001b[0mprint\u001b[0m\u001b[0;34m(\u001b[0m\u001b[0;34mf'depth={i}'\u001b[0m\u001b[0;34m)\u001b[0m\u001b[0;34m\u001b[0m\u001b[0m\n\u001b[1;32m      6\u001b[0m         \u001b[0mt1\u001b[0m \u001b[0;34m=\u001b[0m \u001b[0mtime\u001b[0m\u001b[0;34m.\u001b[0m\u001b[0mtime\u001b[0m\u001b[0;34m(\u001b[0m\u001b[0;34m)\u001b[0m\u001b[0;34m\u001b[0m\u001b[0m\n\u001b[0;32m----> 7\u001b[0;31m         \u001b[0mreg\u001b[0m\u001b[0;34m.\u001b[0m\u001b[0mfit\u001b[0m\u001b[0;34m(\u001b[0m\u001b[0;34m*\u001b[0m\u001b[0mtrain_data\u001b[0m\u001b[0;34m[\u001b[0m\u001b[0mi\u001b[0m\u001b[0;34m]\u001b[0m\u001b[0;34m)\u001b[0m\u001b[0;34m\u001b[0m\u001b[0m\n\u001b[0m\u001b[1;32m      8\u001b[0m         \u001b[0mt2\u001b[0m \u001b[0;34m=\u001b[0m \u001b[0mtime\u001b[0m\u001b[0;34m.\u001b[0m\u001b[0mtime\u001b[0m\u001b[0;34m(\u001b[0m\u001b[0;34m)\u001b[0m\u001b[0;34m\u001b[0m\u001b[0m\n\u001b[1;32m      9\u001b[0m         \u001b[0mprint\u001b[0m\u001b[0;34m(\u001b[0m\u001b[0;34mf'  train {t2-t1:.3}sec'\u001b[0m\u001b[0;34m)\u001b[0m\u001b[0;34m\u001b[0m\u001b[0m\n",
      "\u001b[0;32m/usr/local/var/pyenv/versions/3.7.0/envs/mancala/lib/python3.7/site-packages/sklearn/svm/base.py\u001b[0m in \u001b[0;36mfit\u001b[0;34m(self, X, y, sample_weight)\u001b[0m\n\u001b[1;32m    185\u001b[0m \u001b[0;34m\u001b[0m\u001b[0m\n\u001b[1;32m    186\u001b[0m         \u001b[0mseed\u001b[0m \u001b[0;34m=\u001b[0m \u001b[0mrnd\u001b[0m\u001b[0;34m.\u001b[0m\u001b[0mrandint\u001b[0m\u001b[0;34m(\u001b[0m\u001b[0mnp\u001b[0m\u001b[0;34m.\u001b[0m\u001b[0miinfo\u001b[0m\u001b[0;34m(\u001b[0m\u001b[0;34m'i'\u001b[0m\u001b[0;34m)\u001b[0m\u001b[0;34m.\u001b[0m\u001b[0mmax\u001b[0m\u001b[0;34m)\u001b[0m\u001b[0;34m\u001b[0m\u001b[0m\n\u001b[0;32m--> 187\u001b[0;31m         \u001b[0mfit\u001b[0m\u001b[0;34m(\u001b[0m\u001b[0mX\u001b[0m\u001b[0;34m,\u001b[0m \u001b[0my\u001b[0m\u001b[0;34m,\u001b[0m \u001b[0msample_weight\u001b[0m\u001b[0;34m,\u001b[0m \u001b[0msolver_type\u001b[0m\u001b[0;34m,\u001b[0m \u001b[0mkernel\u001b[0m\u001b[0;34m,\u001b[0m \u001b[0mrandom_seed\u001b[0m\u001b[0;34m=\u001b[0m\u001b[0mseed\u001b[0m\u001b[0;34m)\u001b[0m\u001b[0;34m\u001b[0m\u001b[0m\n\u001b[0m\u001b[1;32m    188\u001b[0m         \u001b[0;31m# see comment on the other call to np.iinfo in this file\u001b[0m\u001b[0;34m\u001b[0m\u001b[0;34m\u001b[0m\u001b[0m\n\u001b[1;32m    189\u001b[0m \u001b[0;34m\u001b[0m\u001b[0m\n",
      "\u001b[0;32m/usr/local/var/pyenv/versions/3.7.0/envs/mancala/lib/python3.7/site-packages/sklearn/svm/base.py\u001b[0m in \u001b[0;36m_dense_fit\u001b[0;34m(self, X, y, sample_weight, solver_type, kernel, random_seed)\u001b[0m\n\u001b[1;32m    252\u001b[0m                 \u001b[0mcache_size\u001b[0m\u001b[0;34m=\u001b[0m\u001b[0mself\u001b[0m\u001b[0;34m.\u001b[0m\u001b[0mcache_size\u001b[0m\u001b[0;34m,\u001b[0m \u001b[0mcoef0\u001b[0m\u001b[0;34m=\u001b[0m\u001b[0mself\u001b[0m\u001b[0;34m.\u001b[0m\u001b[0mcoef0\u001b[0m\u001b[0;34m,\u001b[0m\u001b[0;34m\u001b[0m\u001b[0m\n\u001b[1;32m    253\u001b[0m                 \u001b[0mgamma\u001b[0m\u001b[0;34m=\u001b[0m\u001b[0mself\u001b[0m\u001b[0;34m.\u001b[0m\u001b[0m_gamma\u001b[0m\u001b[0;34m,\u001b[0m \u001b[0mepsilon\u001b[0m\u001b[0;34m=\u001b[0m\u001b[0mself\u001b[0m\u001b[0;34m.\u001b[0m\u001b[0mepsilon\u001b[0m\u001b[0;34m,\u001b[0m\u001b[0;34m\u001b[0m\u001b[0m\n\u001b[0;32m--> 254\u001b[0;31m                 max_iter=self.max_iter, random_seed=random_seed)\n\u001b[0m\u001b[1;32m    255\u001b[0m \u001b[0;34m\u001b[0m\u001b[0m\n\u001b[1;32m    256\u001b[0m         \u001b[0mself\u001b[0m\u001b[0;34m.\u001b[0m\u001b[0m_warn_from_fit_status\u001b[0m\u001b[0;34m(\u001b[0m\u001b[0;34m)\u001b[0m\u001b[0;34m\u001b[0m\u001b[0m\n",
      "\u001b[0;31mKeyboardInterrupt\u001b[0m: "
     ]
    }
   ],
   "source": [
    "# http://scikit-learn.org/stable/modules/generated/sklearn.svm.SVR.html#sklearn.svm.SVR\n",
    "fit(lambda: svm.SVR())"
   ]
  },
  {
   "cell_type": "code",
   "execution_count": 48,
   "metadata": {},
   "outputs": [
    {
     "name": "stdout",
     "output_type": "stream",
     "text": [
      "depth=0\n",
      "  train 0.036sec\n",
      "  train_score=0.986 [4.7sec]\n",
      "  test_score=0.978 [0.606sec]\n",
      "depth=1\n",
      "  train 0.0338sec\n",
      "  train_score=0.655 [4.75sec]\n",
      "  test_score=0.492 [0.573sec]\n",
      "depth=2\n",
      "  train 0.0392sec\n",
      "  train_score=0.732 [4.71sec]\n",
      "  test_score=0.619 [0.585sec]\n",
      "depth=3\n",
      "  train 0.0486sec\n",
      "  train_score=0.723 [4.69sec]\n",
      "  test_score=0.558 [0.569sec]\n",
      "depth=4\n",
      "  train 0.0384sec\n",
      "  train_score=0.759 [4.74sec]\n",
      "  test_score=0.607 [0.571sec]\n"
     ]
    }
   ],
   "source": [
    "# http://scikit-learn.org/stable/modules/generated/sklearn.neighbors.KNeighborsRegressor.html#sklearn.neighbors.KNeighborsRegressor\n",
    "fit(lambda: neighbors.KNeighborsRegressor(n_neighbors=5))"
   ]
  },
  {
   "cell_type": "code",
   "execution_count": 49,
   "metadata": {},
   "outputs": [
    {
     "name": "stdout",
     "output_type": "stream",
     "text": [
      "depth=0\n",
      "  train 0.095sec\n",
      "  train_score=1.0 [0.00356sec]\n",
      "  test_score=1.0 [0.001sec]\n",
      "depth=1\n",
      "  train 0.188sec\n",
      "  train_score=0.995 [0.00835sec]\n",
      "  test_score=0.15 [0.00177sec]\n",
      "depth=2\n",
      "  train 0.177sec\n",
      "  train_score=0.997 [0.00843sec]\n",
      "  test_score=0.332 [0.00149sec]\n",
      "depth=3\n",
      "  train 0.183sec\n",
      "  train_score=0.998 [0.00831sec]\n",
      "  test_score=0.256 [0.00146sec]\n",
      "depth=4\n",
      "  train 0.173sec\n",
      "  train_score=0.998 [0.00767sec]\n",
      "  test_score=0.357 [0.00142sec]\n"
     ]
    }
   ],
   "source": [
    "fit(lambda: tree.DecisionTreeRegressor())"
   ]
  },
  {
   "cell_type": "code",
   "execution_count": 51,
   "metadata": {},
   "outputs": [
    {
     "name": "stdout",
     "output_type": "stream",
     "text": [
      "depth=0\n",
      "  train 0.544sec\n",
      "  train_score=1.0 [0.0246sec]\n",
      "  test_score=1.0 [0.00387sec]\n",
      "depth=1\n",
      "  train 1.16sec\n",
      "  train_score=0.903 [0.0637sec]\n",
      "  test_score=0.482 [0.00866sec]\n",
      "depth=2\n",
      "  train 1.15sec\n",
      "  train_score=0.931 [0.0565sec]\n",
      "  test_score=0.648 [0.00986sec]\n",
      "depth=3\n",
      "  train 1.17sec\n",
      "  train_score=0.926 [0.0606sec]\n",
      "  test_score=0.546 [0.00892sec]\n",
      "depth=4\n",
      "  train 1.15sec\n",
      "  train_score=0.936 [0.0571sec]\n",
      "  test_score=0.629 [0.009sec]\n"
     ]
    }
   ],
   "source": [
    "# http://scikit-learn.org/stable/modules/generated/sklearn.ensemble.RandomForestRegressor.html\n",
    "fit(lambda: ensemble.RandomForestRegressor(n_estimators=10))"
   ]
  },
  {
   "cell_type": "code",
   "execution_count": 50,
   "metadata": {},
   "outputs": [
    {
     "name": "stdout",
     "output_type": "stream",
     "text": [
      "depth=0\n",
      "  train 5.39sec\n",
      "  train_score=1.0 [0.243sec]\n",
      "  test_score=1.0 [0.0324sec]\n",
      "depth=1\n",
      "  train 11.6sec\n",
      "  train_score=0.927 [0.6sec]\n",
      "  test_score=0.516 [0.0861sec]\n",
      "depth=2\n",
      "  train 11.5sec\n",
      "  train_score=0.95 [0.576sec]\n",
      "  test_score=0.687 [0.0881sec]\n",
      "depth=3\n",
      "  train 11.7sec\n",
      "  train_score=0.947 [0.608sec]\n",
      "  test_score=0.587 [0.0856sec]\n",
      "depth=4\n",
      "  train 11.4sec\n",
      "  train_score=0.955 [0.558sec]\n",
      "  test_score=0.656 [0.0852sec]\n"
     ]
    }
   ],
   "source": [
    "fit(lambda: ensemble.RandomForestRegressor(n_estimators=100))"
   ]
  },
  {
   "cell_type": "code",
   "execution_count": 52,
   "metadata": {},
   "outputs": [
    {
     "name": "stdout",
     "output_type": "stream",
     "text": [
      "depth=0\n",
      "  train 1.65sec\n",
      "  train_score=0.985 [0.0436sec]\n",
      "  test_score=0.984 [0.00495sec]\n",
      "depth=1\n",
      "  train 2.51sec\n",
      "  train_score=0.485 [0.0371sec]\n",
      "  test_score=0.476 [0.00379sec]\n",
      "depth=2\n",
      "  train 7.57sec\n",
      "  train_score=0.6 [0.0363sec]\n",
      "  test_score=0.603 [0.00332sec]\n",
      "depth=3\n",
      "  train 4.75sec\n",
      "  train_score=0.557 [0.0397sec]\n",
      "  test_score=0.52 [0.00359sec]\n",
      "depth=4\n",
      "  train 4.98sec\n",
      "  train_score=0.657 [0.0394sec]\n",
      "  test_score=0.594 [0.0039sec]\n"
     ]
    }
   ],
   "source": [
    "fit(lambda: neural_network.MLPRegressor(hidden_layer_sizes=[40, 40, 40]))"
   ]
  }
 ],
 "metadata": {
  "kernelspec": {
   "display_name": "Python 3",
   "language": "python",
   "name": "python3"
  },
  "language_info": {
   "codemirror_mode": {
    "name": "ipython",
    "version": 3
   },
   "file_extension": ".py",
   "mimetype": "text/x-python",
   "name": "python",
   "nbconvert_exporter": "python",
   "pygments_lexer": "ipython3",
   "version": "3.7.0"
  }
 },
 "nbformat": 4,
 "nbformat_minor": 2
}
