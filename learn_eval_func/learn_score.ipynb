{
 "cells": [
  {
   "cell_type": "code",
   "execution_count": 23,
   "metadata": {},
   "outputs": [],
   "source": [
    "import json\n",
    "import numpy\n",
    "from sklearn.model_selection import train_test_split\n",
    "\n",
    "with open('data/p6s4_1024.json') as f:\n",
    "    data = json.load(f)\n",
    "    depth = data['score_depth']\n",
    "    x = numpy.array([d['v'] for d in data['data'] if d['v'][0] == 0])\n",
    "    yy = [numpy.array([d['s'][i] for d in data['data'] if d['v'][0] == 0]) for i in range(depth + 1)]\n",
    "\n",
    "test_size = 0.1\n",
    "train_data = []\n",
    "test_data = []\n",
    "for y in yy:\n",
    "    x_train, x_test, y_train, y_test= train_test_split(x, y, test_size=test_size)\n",
    "    train_data.append([x_train, y_train])\n",
    "    test_data.append([x_test, y_test])"
   ]
  },
  {
   "cell_type": "code",
   "execution_count": 2,
   "metadata": {},
   "outputs": [],
   "source": [
    "import time\n",
    "def fit(factory):\n",
    "    for i in range(depth + 1):\n",
    "        reg = factory()\n",
    "        print(f'depth={i}')\n",
    "        t1 = time.time()\n",
    "        reg.fit(*train_data[i])\n",
    "        t2 = time.time()\n",
    "        print(f'  train {t2-t1:.3}sec')\n",
    "        train_score = reg.score(*train_data[i])\n",
    "        t3 = time.time()\n",
    "        print(f'  train_score={train_score:.3} [{t3-t2:.3}sec]')\n",
    "        test_score = reg.score(*test_data[i])\n",
    "        t4 = time.time()\n",
    "        print(f'  test_score={test_score:.3} [{t4-t3:.3}sec]')"
   ]
  },
  {
   "cell_type": "code",
   "execution_count": 3,
   "metadata": {},
   "outputs": [
    {
     "name": "stderr",
     "output_type": "stream",
     "text": [
      "/usr/local/var/pyenv/versions/3.7.0/envs/mancala/lib/python3.7/site-packages/sklearn/ensemble/weight_boosting.py:29: DeprecationWarning: numpy.core.umath_tests is an internal NumPy module and should not be imported. It will be removed in a future NumPy release.\n",
      "  from numpy.core.umath_tests import inner1d\n"
     ]
    }
   ],
   "source": [
    "from sklearn import linear_model\n",
    "from sklearn import svm\n",
    "from sklearn import neighbors\n",
    "from sklearn import tree\n",
    "from sklearn import naive_bayes\n",
    "from sklearn import neural_network\n",
    "from sklearn import ensemble"
   ]
  },
  {
   "cell_type": "code",
   "execution_count": 24,
   "metadata": {},
   "outputs": [
    {
     "name": "stdout",
     "output_type": "stream",
     "text": [
      "depth=0\n",
      "  train 0.218sec\n",
      "  train_score=1.0 [0.0355sec]\n",
      "  test_score=1.0 [0.00396sec]\n",
      "depth=1\n",
      "  train 0.206sec\n",
      "  train_score=0.56 [0.0442sec]\n",
      "  test_score=0.563 [0.00508sec]\n",
      "depth=2\n",
      "  train 0.214sec\n",
      "  train_score=0.471 [0.0506sec]\n",
      "  test_score=0.465 [0.00937sec]\n",
      "depth=3\n",
      "  train 0.212sec\n",
      "  train_score=0.438 [0.0483sec]\n",
      "  test_score=0.442 [0.00777sec]\n",
      "depth=4\n",
      "  train 0.177sec\n",
      "  train_score=0.423 [0.0424sec]\n",
      "  test_score=0.421 [0.0035sec]\n"
     ]
    }
   ],
   "source": [
    "# http://scikit-learn.org/stable/modules/generated/sklearn.linear_model.LinearRegression.html#sklearn.linear_model.LinearRegression\n",
    "fit(lambda: linear_model.LinearRegression())"
   ]
  },
  {
   "cell_type": "code",
   "execution_count": null,
   "metadata": {},
   "outputs": [],
   "source": [
    "# http://scikit-learn.org/stable/modules/generated/sklearn.svm.SVR.html#sklearn.svm.SVR\n",
    "fit(lambda: svm.SVR())"
   ]
  },
  {
   "cell_type": "code",
   "execution_count": null,
   "metadata": {},
   "outputs": [],
   "source": [
    "# http://scikit-learn.org/stable/modules/generated/sklearn.neighbors.KNeighborsRegressor.html#sklearn.neighbors.KNeighborsRegressor\n",
    "fit(lambda: neighbors.KNeighborsRegressor(n_neighbors=5))"
   ]
  },
  {
   "cell_type": "code",
   "execution_count": 25,
   "metadata": {},
   "outputs": [
    {
     "name": "stdout",
     "output_type": "stream",
     "text": [
      "depth=0\n",
      "  train 1.41sec\n",
      "  train_score=1.0 [0.0492sec]\n",
      "  test_score=1.0 [0.00494sec]\n",
      "depth=1\n",
      "  train 2.89sec\n",
      "  train_score=1.0 [0.153sec]\n",
      "  test_score=0.753 [0.0169sec]\n",
      "depth=2\n",
      "  train 3.07sec\n",
      "  train_score=1.0 [0.174sec]\n",
      "  test_score=0.657 [0.0187sec]\n",
      "depth=3\n",
      "  train 3.1sec\n",
      "  train_score=1.0 [0.172sec]\n",
      "  test_score=0.666 [0.0174sec]\n",
      "depth=4\n",
      "  train 3.11sec\n",
      "  train_score=1.0 [0.171sec]\n",
      "  test_score=0.623 [0.0173sec]\n"
     ]
    }
   ],
   "source": [
    "fit(lambda: tree.DecisionTreeRegressor())"
   ]
  },
  {
   "cell_type": "code",
   "execution_count": 26,
   "metadata": {},
   "outputs": [
    {
     "name": "stdout",
     "output_type": "stream",
     "text": [
      "depth=0\n",
      "  train 4.86sec\n",
      "  train_score=1.0 [0.178sec]\n",
      "  test_score=1.0 [0.0207sec]\n",
      "depth=1\n",
      "  train 10.0sec\n",
      "  train_score=0.965 [0.712sec]\n",
      "  test_score=0.839 [0.0746sec]\n",
      "depth=2\n",
      "  train 10.9sec\n",
      "  train_score=0.953 [0.729sec]\n",
      "  test_score=0.784 [0.0841sec]\n",
      "depth=3\n",
      "  train 10.7sec\n",
      "  train_score=0.953 [0.767sec]\n",
      "  test_score=0.784 [0.0941sec]\n",
      "depth=4\n",
      "  train 10.6sec\n",
      "  train_score=0.947 [0.739sec]\n",
      "  test_score=0.751 [0.082sec]\n"
     ]
    }
   ],
   "source": [
    "# http://scikit-learn.org/stable/modules/generated/sklearn.ensemble.RandomForestRegressor.html\n",
    "fit(lambda: ensemble.RandomForestRegressor(n_estimators=5))"
   ]
  },
  {
   "cell_type": "code",
   "execution_count": 27,
   "metadata": {},
   "outputs": [
    {
     "name": "stdout",
     "output_type": "stream",
     "text": [
      "depth=0\n",
      "  train 19.8sec\n",
      "  train_score=1.0 [0.69sec]\n",
      "  test_score=1.0 [0.0742sec]\n",
      "depth=1\n",
      "  train 39.6sec\n",
      "  train_score=0.978 [2.56sec]\n",
      "  test_score=0.868 [0.296sec]\n",
      "depth=2\n",
      "  train 43.1sec\n",
      "  train_score=0.971 [3.01sec]\n",
      "  test_score=0.817 [0.327sec]\n",
      "depth=3\n",
      "  train 41.9sec\n",
      "  train_score=0.971 [2.87sec]\n",
      "  test_score=0.82 [0.341sec]\n",
      "depth=4\n",
      "  train 42.7sec\n",
      "  train_score=0.967 [3.1sec]\n",
      "  test_score=0.79 [0.37sec]\n"
     ]
    }
   ],
   "source": [
    "fit(lambda: ensemble.RandomForestRegressor(n_estimators=20))"
   ]
  },
  {
   "cell_type": "code",
   "execution_count": 28,
   "metadata": {},
   "outputs": [
    {
     "name": "stdout",
     "output_type": "stream",
     "text": [
      "depth=0\n",
      "  train 49.9sec\n",
      "  train_score=1.0 [1.7sec]\n",
      "  test_score=1.0 [0.189sec]\n",
      "depth=1\n",
      "  train 1.01e+02sec\n",
      "  train_score=0.981 [6.76sec]\n",
      "  test_score=0.873 [0.845sec]\n",
      "depth=2\n",
      "  train 1.06e+02sec\n",
      "  train_score=0.975 [6.82sec]\n",
      "  test_score=0.824 [0.787sec]\n",
      "depth=3\n",
      "  train 1.07e+02sec\n",
      "  train_score=0.975 [7.62sec]\n",
      "  test_score=0.828 [0.857sec]\n",
      "depth=4\n",
      "  train 1.08e+02sec\n",
      "  train_score=0.971 [7.33sec]\n",
      "  test_score=0.798 [0.822sec]\n"
     ]
    }
   ],
   "source": [
    "fit(lambda: ensemble.RandomForestRegressor(n_estimators=50))"
   ]
  },
  {
   "cell_type": "code",
   "execution_count": 29,
   "metadata": {},
   "outputs": [
    {
     "name": "stdout",
     "output_type": "stream",
     "text": [
      "depth=0\n",
      "  train 6.67sec\n",
      "  train_score=0.998 [0.39sec]\n",
      "  test_score=0.998 [0.0479sec]\n",
      "depth=1\n",
      "  train 16.6sec\n",
      "  train_score=0.836 [0.485sec]\n",
      "  test_score=0.839 [0.0484sec]\n",
      "depth=2\n",
      "  train 24.7sec\n",
      "  train_score=0.776 [0.637sec]\n",
      "  test_score=0.772 [0.0639sec]\n",
      "depth=3\n",
      "  train 27.8sec\n",
      "  train_score=0.739 [0.739sec]\n",
      "  test_score=0.736 [0.0826sec]\n",
      "depth=4\n",
      "  train 22.5sec\n",
      "  train_score=0.723 [0.391sec]\n",
      "  test_score=0.716 [0.0393sec]\n"
     ]
    }
   ],
   "source": [
    "fit(lambda: neural_network.MLPRegressor(hidden_layer_sizes=[20, 30, 20]))"
   ]
  },
  {
   "cell_type": "code",
   "execution_count": 18,
   "metadata": {},
   "outputs": [
    {
     "name": "stdout",
     "output_type": "stream",
     "text": [
      "5\n",
      "24.79939889907837\n",
      "0.6347958925613256\n",
      "10\n",
      "42.49556088447571\n",
      "0.6808438436012151\n",
      "15\n",
      "49.57706117630005\n",
      "0.6992966685167856\n",
      "20\n",
      "39.343989849090576\n",
      "0.6957850571446336\n",
      "30\n",
      "87.10426712036133\n",
      "0.7397505783543122\n"
     ]
    }
   ],
   "source": [
    "for n in [5, 10, 15, 20, 30]:\n",
    "    reg = neural_network.MLPRegressor(hidden_layer_sizes=[n] * 3)\n",
    "    print(n)\n",
    "    t1 = time.time()\n",
    "    reg.fit(*train_data[-1])\n",
    "    t2 = time.time()\n",
    "    print(t2 - t1)\n",
    "    print(reg.score(*test_data[-1]))"
   ]
  },
  {
   "cell_type": "code",
   "execution_count": 19,
   "metadata": {},
   "outputs": [
    {
     "name": "stdout",
     "output_type": "stream",
     "text": [
      "5\n",
      "34.018481969833374\n",
      "0.6382998028649867\n",
      "10\n",
      "33.28068518638611\n",
      "0.6701704724546107\n",
      "15\n",
      "27.092972993850708\n",
      "0.6816108163949606\n",
      "20\n",
      "27.652522087097168\n",
      "0.6853372160212124\n",
      "30\n",
      "35.61436700820923\n",
      "0.6923152176947085\n"
     ]
    }
   ],
   "source": [
    "for n in [5, 10, 15, 20, 30]:\n",
    "    reg = neural_network.MLPRegressor(hidden_layer_sizes=[n] * 3, activation='logistic')\n",
    "    print(n)\n",
    "    t1 = time.time()\n",
    "    reg.fit(*train_data[-1])\n",
    "    t2 = time.time()\n",
    "    print(t2 - t1)\n",
    "    print(reg.score(*test_data[-1]))"
   ]
  },
  {
   "cell_type": "code",
   "execution_count": 21,
   "metadata": {},
   "outputs": [
    {
     "name": "stdout",
     "output_type": "stream",
     "text": [
      "150.2144820690155\n",
      "0.7232178171317489\n"
     ]
    }
   ],
   "source": [
    "reg = neural_network.MLPRegressor(hidden_layer_sizes=[15, 20, 30, 20, 15])\n",
    "t1 = time.time()\n",
    "reg.fit(*train_data[-1])\n",
    "t2 = time.time()\n",
    "print(t2 - t1)\n",
    "print(reg.score(*test_data[-1]))"
   ]
  },
  {
   "cell_type": "code",
   "execution_count": 22,
   "metadata": {},
   "outputs": [
    {
     "name": "stdout",
     "output_type": "stream",
     "text": [
      "1\n",
      "17.750744104385376\n",
      "0.6190780136813103\n",
      "2\n",
      "43.415302991867065\n",
      "0.713208537772013\n",
      "3\n",
      "85.89765214920044\n",
      "0.7233397800233101\n",
      "4\n",
      "92.11808896064758\n",
      "0.7327368560604073\n",
      "5\n",
      "110.85415506362915\n",
      "0.7347707150007432\n"
     ]
    }
   ],
   "source": [
    "for n in [1, 2, 3, 4, 5]:\n",
    "    reg = neural_network.MLPRegressor(hidden_layer_sizes=[30] * n)\n",
    "    print(n)\n",
    "    t1 = time.time()\n",
    "    reg.fit(*train_data[-1])\n",
    "    t2 = time.time()\n",
    "    print(t2 - t1)\n",
    "    print(reg.score(*test_data[-1]))"
   ]
  },
  {
   "cell_type": "code",
   "execution_count": 22,
   "metadata": {},
   "outputs": [
    {
     "name": "stdout",
     "output_type": "stream",
     "text": [
      "1\n",
      "17.750744104385376\n",
      "0.6190780136813103\n",
      "2\n",
      "43.415302991867065\n",
      "0.713208537772013\n",
      "3\n",
      "85.89765214920044\n",
      "0.7233397800233101\n",
      "4\n",
      "92.11808896064758\n",
      "0.7327368560604073\n",
      "5\n",
      "110.85415506362915\n",
      "0.7347707150007432\n"
     ]
    }
   ],
   "source": [
    "for n in [1, 2, 3, 4, 5]:\n",
    "    reg = en\n",
    "    print(n)\n",
    "    t1 = time.time()\n",
    "    reg.fit(*train_data[-1])\n",
    "    t2 = time.time()\n",
    "    print(t2 - t1)\n",
    "    print(reg.score(*test_data[-1]))"
   ]
  }
 ],
 "metadata": {
  "kernelspec": {
   "display_name": "Python 3",
   "language": "python",
   "name": "python3"
  },
  "language_info": {
   "codemirror_mode": {
    "name": "ipython",
    "version": 3
   },
   "file_extension": ".py",
   "mimetype": "text/x-python",
   "name": "python",
   "nbconvert_exporter": "python",
   "pygments_lexer": "ipython3",
   "version": "3.7.0"
  }
 },
 "nbformat": 4,
 "nbformat_minor": 2
}
