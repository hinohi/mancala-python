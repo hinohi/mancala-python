{
 "cells": [
  {
   "cell_type": "code",
   "execution_count": 11,
   "metadata": {},
   "outputs": [],
   "source": [
    "import json\n",
    "import numpy\n",
    "from sklearn.model_selection import train_test_split\n",
    "\n",
    "data_name = 'p6s4-1275'\n",
    "\n",
    "with open(f'data/{data_name.replace(\"-\", \"_\")}.json') as f:\n",
    "    data = json.load(f)\n",
    "    depth = data['score_depth']\n",
    "    x = numpy.array([d['v'] for d in data['data']])\n",
    "    y = numpy.array([d['s'][depth] for d in data['data']])\n",
    "\n",
    "test_size = 0.1\n",
    "x_train, x_test, y_train, y_test= train_test_split(x, y, test_size=test_size)"
   ]
  },
  {
   "cell_type": "code",
   "execution_count": 2,
   "metadata": {},
   "outputs": [
    {
     "name": "stderr",
     "output_type": "stream",
     "text": [
      "/usr/local/var/pyenv/versions/3.7.0/envs/mancala/lib/python3.7/site-packages/sklearn/ensemble/weight_boosting.py:29: DeprecationWarning: numpy.core.umath_tests is an internal NumPy module and should not be imported. It will be removed in a future NumPy release.\n",
      "  from numpy.core.umath_tests import inner1d\n"
     ]
    }
   ],
   "source": [
    "from sklearn.ensemble import RandomForestRegressor"
   ]
  },
  {
   "cell_type": "code",
   "execution_count": 14,
   "metadata": {},
   "outputs": [],
   "source": [
    "import time\n",
    "import pickle\n",
    "from pathlib import Path\n",
    "\n",
    "def fit_test(reg):\n",
    "    t1 = time.time()\n",
    "    reg.fit(x_train, y_train)\n",
    "    t2 = time.time()\n",
    "    print(f'{t2 - t1:.4}sec')\n",
    "    test_score = reg.score(x_test, y_test)\n",
    "    t3 = time.time()\n",
    "    print(f'test_score={test_score:.3} [{t3 - t2:.3}sec]')\n",
    "\n",
    "def run(n, depth, features):\n",
    "    reg = RandomForestRegressor(n_jobs=3, n_estimators=n, max_depth=depth, max_features=features)\n",
    "    fit_test(reg)\n",
    "    path = Path('model') / f'{data_name}_RF-n{n}-d{depth}-f{features}.pickle'\n",
    "    with path.open('wb') as f:\n",
    "        pickle.dump(obj=reg, file=f)\n",
    "    print(path.stat().st_size / 2**20)"
   ]
  },
  {
   "cell_type": "code",
   "execution_count": 15,
   "metadata": {},
   "outputs": [
    {
     "name": "stdout",
     "output_type": "stream",
     "text": [
      "96.74sec\n",
      "test_score=0.804 [0.718sec]\n",
      "605.5172119140625\n"
     ]
    }
   ],
   "source": [
    "run(n=50, depth=20, features='auto')"
   ]
  },
  {
   "cell_type": "code",
   "execution_count": 16,
   "metadata": {},
   "outputs": [
    {
     "name": "stdout",
     "output_type": "stream",
     "text": [
      "66.71sec\n",
      "test_score=0.813 [0.737sec]\n",
      "682.8226203918457\n"
     ]
    }
   ],
   "source": [
    "run(n=50, depth=20, features=10)"
   ]
  },
  {
   "cell_type": "code",
   "execution_count": 17,
   "metadata": {},
   "outputs": [
    {
     "name": "stdout",
     "output_type": "stream",
     "text": [
      "37.72sec\n",
      "test_score=0.812 [0.824sec]\n",
      "866.0687141418457\n"
     ]
    }
   ],
   "source": [
    "run(n=50, depth=20, features=5)"
   ]
  },
  {
   "cell_type": "code",
   "execution_count": 18,
   "metadata": {},
   "outputs": [
    {
     "name": "stdout",
     "output_type": "stream",
     "text": [
      "95.02sec\n",
      "test_score=0.804 [0.62sec]\n",
      "605.5560188293457\n"
     ]
    }
   ],
   "source": [
    "run(n=50, depth=20, features=15)"
   ]
  },
  {
   "cell_type": "code",
   "execution_count": 20,
   "metadata": {},
   "outputs": [
    {
     "name": "stdout",
     "output_type": "stream",
     "text": [
      "14.19sec\n",
      "test_score=0.719 [0.842sec]\n",
      "1027.7270393371582\n"
     ]
    }
   ],
   "source": [
    "run(n=50, depth=20, features=1)"
   ]
  },
  {
   "cell_type": "code",
   "execution_count": 21,
   "metadata": {},
   "outputs": [
    {
     "name": "stdout",
     "output_type": "stream",
     "text": [
      "26.28sec\n",
      "test_score=0.789 [0.827sec]\n",
      "944.1750373840332\n"
     ]
    }
   ],
   "source": [
    "run(n=50, depth=20, features=3)"
   ]
  },
  {
   "cell_type": "code",
   "execution_count": 25,
   "metadata": {},
   "outputs": [
    {
     "name": "stdout",
     "output_type": "stream",
     "text": [
      "24.84sec\n",
      "test_score=0.651 [0.214sec]\n",
      "5.993110656738281\n"
     ]
    }
   ],
   "source": [
    "run(n=50, depth=10, features=5)"
   ]
  },
  {
   "cell_type": "code",
   "execution_count": 24,
   "metadata": {},
   "outputs": [
    {
     "name": "stdout",
     "output_type": "stream",
     "text": [
      "27.74sec\n",
      "test_score=0.698 [0.21sec]\n",
      "21.57221221923828\n"
     ]
    }
   ],
   "source": [
    "run(n=50, depth=12, features=5)"
   ]
  },
  {
   "cell_type": "code",
   "execution_count": 26,
   "metadata": {},
   "outputs": [
    {
     "name": "stdout",
     "output_type": "stream",
     "text": [
      "28.92sec\n",
      "test_score=0.74 [0.316sec]\n",
      "71.16095733642578\n"
     ]
    }
   ],
   "source": [
    "run(n=50, depth=14, features=5)"
   ]
  },
  {
   "cell_type": "code",
   "execution_count": 27,
   "metadata": {},
   "outputs": [
    {
     "name": "stdout",
     "output_type": "stream",
     "text": [
      "33.12sec\n",
      "test_score=0.774 [0.417sec]\n",
      "198.58699226379395\n"
     ]
    }
   ],
   "source": [
    "run(n=50, depth=16, features=5)"
   ]
  },
  {
   "cell_type": "code",
   "execution_count": 28,
   "metadata": {},
   "outputs": [
    {
     "name": "stdout",
     "output_type": "stream",
     "text": [
      "57.67sec\n",
      "test_score=0.788 [0.423sec]\n",
      "176.93915557861328\n"
     ]
    }
   ],
   "source": [
    "run(n=50, depth=16, features=10)"
   ]
  },
  {
   "cell_type": "code",
   "execution_count": 29,
   "metadata": {},
   "outputs": [
    {
     "name": "stdout",
     "output_type": "stream",
     "text": [
      "63.05sec\n",
      "test_score=0.804 [0.519sec]\n",
      "379.0984992980957\n"
     ]
    }
   ],
   "source": [
    "run(n=50, depth=18, features=10)"
   ]
  }
 ],
 "metadata": {
  "kernelspec": {
   "display_name": "Python 3",
   "language": "python",
   "name": "python3"
  },
  "language_info": {
   "codemirror_mode": {
    "name": "ipython",
    "version": 3
   },
   "file_extension": ".py",
   "mimetype": "text/x-python",
   "name": "python",
   "nbconvert_exporter": "python",
   "pygments_lexer": "ipython3",
   "version": "3.7.0"
  }
 },
 "nbformat": 4,
 "nbformat_minor": 2
}
